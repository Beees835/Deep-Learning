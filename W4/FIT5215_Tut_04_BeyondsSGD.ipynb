{
 "cells": [
  {
   "cell_type": "markdown",
   "metadata": {
    "id": "view-in-github",
    "colab_type": "text"
   },
   "source": [
    "<a href=\"https://colab.research.google.com/github/Beees835/Deep-Learning/blob/main/FIT5215_Tut_04_BeyondsSGD.ipynb\" target=\"_parent\"><img src=\"https://colab.research.google.com/assets/colab-badge.svg\" alt=\"Open In Colab\"/></a>"
   ]
  },
  {
   "cell_type": "markdown",
   "metadata": {
    "id": "58V5Nv6YLooS"
   },
   "source": [
    "# <span style=\"color:#0b486b\">  FIT3181/5215: Deep Learning (2024)</span>\n",
    "***\n",
    "*CE/Lecturer (Clayton):*  **Dr Trung Le** | trunglm@monash.edu <br/>\n",
    "*Lecturer (Clayton):* **Prof Dinh Phung** | dinh.phung@monash.edu <br/>\n",
    "*Lecturer (Malaysia):*  **Dr Arghya Pal** | arghya.pal@monash.edu <br/>\n",
    "*Lecturer (Malaysia):*  **Dr Lim Chern Hong** | lim.chernhong@monash.edu <br/>  <br/>\n",
    "*Head Tutor 3181:*  **Miss Vy Vo** |  \\[tran.vo@monash.edu \\] <br/>\n",
    "*Head Tutor 5215:*  **Dr Van Nguyen** |  \\[van.nguyen1@monash.edu \\]\n",
    "\n",
    "<br/> <br/>\n",
    "Faculty of Information Technology, Monash University, Australia\n",
    "***"
   ]
  },
  {
   "cell_type": "markdown",
   "metadata": {
    "id": "0t4YW_-ZLooU"
   },
   "source": [
    "# <span style=\"color:#0b486b\">Tutorial 4: Stochastic Gradient Descent and Optimization</span> #\n",
    "**The purpose of this tutorial is to help you understand and visualize gradients of machine learning algorithms as well as the optimization of deep learning with NumPy. The tutorial consists of two parts:**\n",
    "\n",
    "I. Visualize the gradient of the training of a logistic regression model on a synthetic dataset.\n",
    "\n",
    "II. Show the training procedure of a DNN model on the MNIST dataset.\n",
    "\n",
    "**References and additional reading and resources**\n",
    "- An overview of gradient descent optimization algorithms ([link](https://ruder.io/optimizing-gradient-descent/)).\n",
    "- Logistic Regression ([link](https://towardsdatascience.com/logistic-regression-detailed-overview-46c4da4303bc)).\n",
    "- Automatic Differentiation with `torch.autograd` ([link](https://pytorch.org/tutorials/beginner/basics/autogradqs_tutorial.html)).\n"
   ]
  },
  {
   "cell_type": "markdown",
   "metadata": {
    "id": "VW4VH0IOLooV"
   },
   "source": [
    "## <span style=\"color:#0b486b\"> I. Visualize the gradient of the training of a logistic regression model on a synthetic dataset </span> <span style=\"color:red;  font-size: 18px\">***** (highly important)</span>"
   ]
  },
  {
   "cell_type": "markdown",
   "metadata": {
    "id": "Hi_vwAQNLooV"
   },
   "source": [
    "### <span style=\"color:#0b486b\"> I.1 Introduction of logistic regression </span>"
   ]
  },
  {
   "cell_type": "markdown",
   "metadata": {
    "id": "We2cBjH6LooV"
   },
   "source": [
    "Logistic regression can be viewed as a simple neural network for binary classification with the input and output layers.\n",
    "- The input layer takes inputs as one feature vector (data point, data instance, or data example), mini-batches of feature vectors, or entire dataset of feature vectors.\n",
    "- The output layer has two neurons and was applied with the `softmax` function to obtain the predicted probability of a given data instance to be over the positive class (i.e, class 1) and the negative class (i.e, class 0).\n",
    "\n",
    "We choose logistic regression to visually demonstrate the processes of forward/backward propagations and perform Stochastic Gradient Descend (SGD) updates to solve the optimization problem behind logistic regression. This would offer you a better understanding of using forward/backward propagations when training deep neural networks (DNNs). With the implementation in this part, you will enjoy the learning of how to feed a mini-batch to a network, do forward propagation, define the loss function, and then perform backward propagation for computing the gradients for updating the model in an SGD manner.\n",
    "\n",
    "For the ease of comprehensibility, we present the technical details for the case of a synthetic dataset with two features (i.e., data point $x \\in \\mathbb{R}^{2}$), meaning that the input layer has two neurons. However, the implementation can be generalized to a general case with many features (i.e., data point $x \\in \\mathbb{R}^{d}$ where $d$ is the number of features).\n",
    "\n",
    "The architecture of logistic regression is shown in the following figure.\n",
    "\n",
    "![image.png](data:image/png;base64,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)\n",
    "\n",
    "The model parameters of our simple logistic regression include $W=\\left[\\begin{array}{c}\n",
    "w_{11} & w_{12}\\\\\n",
    "w_{21} & w_{22}\n",
    "\\end{array}\\right]\\in\\mathbb{R}^{2 \\times 2}$. Here note that we do not use the bias to simplify the model for the visualizing purpose.\n",
    "\n",
    "Let us denote the training set as $D=\\left\\{ (x^{1},y^{1}),(x^{2},y^{2})...,(x^{N},y^{N})\\right\\}$ where data point and feature vector $x^i = [x^i_1, x^i_2] \\in \\mathbb{R}^{1\\times 2}$ and label $y^i \\in \\{0,1\\}$."
   ]
  },
  {
   "cell_type": "markdown",
   "metadata": {
    "id": "z5RxiBkoLooW"
   },
   "source": [
    "#### <span style=\"color:#0b486b\"> Forward propagation </span>\n",
    "\n",
    "The computational process of logistic regression for a data point $x \\in \\mathbb{R}^{1\\times 2}$ with the label $y \\in \\{0,1\\}$ is as follows:\n",
    "- We feed $x \\in \\mathbb{R}^{1\\times2}$ to the logistic regression network.\n",
    "- We compute: $z= xW \\in \\mathbb{R}^{1\\times 2}$.\n",
    "- We apply softmax over $z$: $p = softmax(z) \\in\\mathbb{R}^{1\\times 2}$.\n",
    "\n",
    "$p$ represents the prediction probability over classes 0 and 1. Specifically,  $p = softmax(z) = \\left[ \\frac{e^{z_0}}{e^{z_0}+e^{z_1}}, \\frac{e^{z_1}}{e^{z_0}+e^{z_1}} \\right]$.\n",
    "\n",
    "The loss incurred is as follows:\n",
    "- $l(x,y;W) = CE(\\mathbb{1}_y,p) = -log(p_y))$\n",
    "\n",
    "Your task is to explain why it is.\n",
    "\n",
    "The loss incurred by the entire dataset is:\n",
    "- $l(W,D)=\\frac{1}{N}\\sum_{i=1}^{N}l(x^{i},y^{i};W)$\n",
    "\n",
    "To efficiently solve the above optimization problem, we apply SGD in which at each iteration we feed a mini-batch $X$ to the network and then rely on backward propagation to compute the gradient of the loss function w.r.t. to $W$ for the current mini-batch.\n",
    "\n",
    "The computational process of logistic regression for a mini-batch $X \\in \\mathbb{R}^{batch\\_size\\times2}$ with labels $y \\in \\mathbb{R}^{batch\\_size\\times1}$ is as follows:\n",
    "- We feed a mini-batch $X=\\left[\\begin{array}{cc}\n",
    "b_{1}^{1} & b_{2}^{1}\\\\\n",
    "b_{1}^{2} & b_{2}^{2}\\\\\n",
    "... & ...\\\\\n",
    "b_{1}^{batch\\_size} & b_{2}^{batch\\_size}\n",
    "\\end{array}\\right]\\in\\mathbb{R}^{batch\\_size\\times2}$ of 2D feature vectors (data points) to our logistic regression network.\n",
    "- We compute $z = XW \\in \\mathbb{R}^{batch\\_size\\times 2}$.\n",
    "- We apply softmax over $z$: $p = softmax(z) \\in \\mathbb{R}^{batch\\_size\\times 2}$.\n",
    "\n",
    "The loss incurred by the current mini-batch is as follows:\n",
    "- $l(W,X)=\\frac{1}{batch\\_size}\\sum_{i=1}^{batch\\_size}l(b^{i},y^{i};W)=-\\frac{1}{batch\\_size}\\sum_{i=1}^{batch\\_size}-\\log p^{i}_{y^i}$ where $p^{i} = softmax(z^i)= \\left[ \\frac{e^{z^i_0}}{e^{z^i_0}+e^{z^i_1}}, \\frac{e^{z^i_1}}{e^{z^i_0}+e^{z^i_1}} \\right]$.\n"
   ]
  },
  {
   "cell_type": "markdown",
   "metadata": {
    "id": "NrXXk9oMLooW"
   },
   "source": [
    "#### <span style=\"color:#0b486b\"> Backward propagation </span>\n",
    "\n",
    "We now compute the gradient of the loss incurred by a mini-batch $l(W,X)$ w.r.t. the model parameter $W$. This can be done conveniently via backward propagation with some matrix multiplications. The mathematical tool for this derivation is the chain rule based on the computational process of the forward propagation.\n",
    "\n",
    "From the process:\n",
    "- $z = XW ⟶ p = softmax(z) ⟶ l(W,X)$\n",
    "\n",
    "We derive as follows:\n",
    "- $ \\frac{\\partial l}{\\partial W}\t=\\frac{1}{batch\\_size}\\sum_{i=1}^{batch\\_size}\\frac{\\partial l(b^{i},y^{i};W)}{\\partial W}=\\frac{1}{batch\\_size}\\sum_{i=1}^{batch\\_size}\\frac{\\partial l(b^{i},y^{i};W)}{\\partial z^{i}}\\frac{\\partial z^{i}}{\\partial W}$\n",
    "\n",
    "where:\n",
    "- $\\frac{\\partial l(b^{i},y^{i};W)}{\\partial z^{i}} = p^i - 1_{y^i}$\n",
    "- $\\frac{\\partial z^{i}}{\\partial W} = {b^i}$\n",
    "\n",
    "Thus:\n",
    "- $ \\frac{\\partial l}{\\partial W} = \\frac{1}{batch\\_size}\\sum_{i=1}^{batch\\_size} {b^i}^T \\times (p^i - 1_{y^i})$, where $\\times$ denotes the matrix multiplication.\n",
    "\n",
    "To facilitate the computation, we can rewrite the above derivative in the form of matrix multiplication as follows:\n",
    "- $\\frac{\\partial l}{\\partial W}=mean\\left(b^T \\times (p - 1_{y}) \\right)\\in\\mathbb{R}^{2\\times 2}$\n",
    "\n",
    "where $1_y$ is the one-hot transformation of $y$. In case $y \\in \\{0, 1\\} ⟶ 1_y = \\left[1-y, y\\right]$"
   ]
  },
  {
   "cell_type": "markdown",
   "metadata": {
    "id": "0h99FPVULooW"
   },
   "source": [
    "#### <span style=\"color:#0b486b\"> SGD update </span>\n",
    "\n",
    "We update the model based on the gradient of the mini-batch w.r.t. $W$ as:\n",
    "- $W = W - \\eta*\\frac{\\partial l}{\\partial W}$ where $\\eta >0$ is the learning rate."
   ]
  },
  {
   "cell_type": "markdown",
   "metadata": {
    "id": "-cU84rWVLooX"
   },
   "source": [
    "### <span style=\"color:#0b486b\"> I.2 Implementation of logistic regression </span>"
   ]
  },
  {
   "cell_type": "markdown",
   "metadata": {
    "id": "jdEg_wOuLooX"
   },
   "source": [
    "#### **<span style=\"color:#0b486b\"> First, we create a simple synthetic dataset for logistic regressions </span>**"
   ]
  },
  {
   "cell_type": "code",
   "metadata": {
    "id": "hV8_ygiiLooY",
    "ExecuteTime": {
     "end_time": "2024-08-13T22:31:53.607872Z",
     "start_time": "2024-08-13T22:31:50.906938Z"
    }
   },
   "source": [
    "import torch\n",
    "import numpy as np\n",
    "import matplotlib.pyplot as plt\n",
    "import copy"
   ],
   "outputs": [],
   "execution_count": 1
  },
  {
   "cell_type": "markdown",
   "metadata": {
    "id": "uCSBq_U2LooY"
   },
   "source": [
    "We would like to generate a few data points on a two-dimensional axis and assume that the optimal coefficient of the logistic regression is known to us."
   ]
  },
  {
   "cell_type": "code",
   "metadata": {
    "colab": {
     "base_uri": "https://localhost:8080/"
    },
    "id": "uZTC-mxOLooY",
    "outputId": "60070b0a-17af-4c8e-e0ee-8ee27d6bf920",
    "ExecuteTime": {
     "end_time": "2024-08-13T22:31:53.618805Z",
     "start_time": "2024-08-13T22:31:53.614602Z"
    }
   },
   "source": [
    "W_opt = np.array([[1,-1],[2,0]], dtype=np.float64) # the optimal W\n",
    "b_opt = np.array([1,1], dtype=np.float64) # the optimal b\n",
    "print(W_opt)\n",
    "print(b_opt)"
   ],
   "outputs": [
    {
     "name": "stdout",
     "output_type": "stream",
     "text": [
      "[[ 1. -1.]\n",
      " [ 2.  0.]]\n",
      "[1. 1.]\n"
     ]
    }
   ],
   "execution_count": 2
  },
  {
   "cell_type": "markdown",
   "metadata": {
    "id": "rpZ6OEOoLooZ"
   },
   "source": [
    "We generate the training set of 2D data points."
   ]
  },
  {
   "cell_type": "code",
   "metadata": {
    "colab": {
     "base_uri": "https://localhost:8080/"
    },
    "id": "the4aQtsLooZ",
    "outputId": "b3face3b-603c-49a1-b7e9-470745713986",
    "ExecuteTime": {
     "end_time": "2024-08-13T22:31:53.761943Z",
     "start_time": "2024-08-13T22:31:53.757025Z"
    }
   },
   "source": [
    "# Randomly generate 500 synthetic data points\n",
    "N = 500\n",
    "delta = 2\n",
    "X1 = (np.random.rand(N) -0.5)*2*delta\n",
    "X2 = (np.random.rand(N) -0.5)*2*delta\n",
    "X_train = np.array([x for x in zip(X1,X2)])\n",
    "print(\"X_train shape: {}\".format(X_train.shape))"
   ],
   "outputs": [
    {
     "name": "stdout",
     "output_type": "stream",
     "text": [
      "X_train shape: (500, 2)\n"
     ]
    }
   ],
   "execution_count": 3
  },
  {
   "cell_type": "markdown",
   "metadata": {
    "id": "UYdGVuyPLooZ"
   },
   "source": [
    "We assign labels (i.e., $0$ or $1$) for the data points according to if they stay on what side of the optimal hyperplane (W_opt)."
   ]
  },
  {
   "cell_type": "code",
   "metadata": {
    "colab": {
     "base_uri": "https://localhost:8080/"
    },
    "id": "BuUDuuCtLooZ",
    "outputId": "5030e4e8-0308-4fdf-8ad1-0dd321f78381",
    "ExecuteTime": {
     "end_time": "2024-08-13T22:31:53.810652Z",
     "start_time": "2024-08-13T22:31:53.805072Z"
    }
   },
   "source": [
    "# Generate the labels for those data points\n",
    "z = X_train.dot(W_opt) + b_opt\n",
    "z = z + np.random.normal(0, 0.2, size=(N,2)) # add some noise\n",
    "y_train = (z[:,1] > z[:, 0]).astype(int).reshape(-1)\n",
    "print(\"y_train shape: {}\".format(y_train.shape))\n",
    "\n",
    "num_pos = np.sum(y_train==1)\n",
    "num_neg = np.sum(y_train==0)\n",
    "print(\"Number of positive labels: {}, number of negative labels: {}\".format(num_pos, num_neg))"
   ],
   "outputs": [
    {
     "name": "stdout",
     "output_type": "stream",
     "text": [
      "y_train shape: (500,)\n",
      "Number of positive labels: 271, number of negative labels: 229\n"
     ]
    }
   ],
   "execution_count": 4
  },
  {
   "cell_type": "markdown",
   "metadata": {
    "id": "5x--wwd9LooZ"
   },
   "source": [
    "We now visualize the data points with labels and the optimal decision boundary."
   ]
  },
  {
   "cell_type": "code",
   "metadata": {
    "id": "aBNJJZYFLooZ",
    "ExecuteTime": {
     "end_time": "2024-08-13T22:31:53.851937Z",
     "start_time": "2024-08-13T22:31:53.847560Z"
    }
   },
   "source": [
    "# The following code visualizes the hyperplane, i.e., the decision boundary, which is a line in the two-dimensional case\n",
    "def visualize_hyperplane(X= None, y= None, W=None, b= None):\n",
    "    # Plot data points\n",
    "    X_pos = X[y==1, :]\n",
    "    X_neg = X[y==0, :]\n",
    "    plt.scatter(X_pos[:,0], X_pos[:,1], label='1',  c='green', marker='+')\n",
    "    plt.scatter(X_neg[:,0], X_neg[:,1], label='0', c='blue', marker='_')\n",
    "    plt.legend(loc='upper right')\n",
    "\n",
    "    # Plot the decision boundary\n",
    "    f = lambda x: ((W[0,1]-W[0,0])*x + (b[1]- b[0]))/(W[1,0]-W[1,1])\n",
    "    X1 = np.linspace(-2,2,500)\n",
    "    plt.plot(X1, f(X1),  'r--')\n",
    "    plt.show()"
   ],
   "outputs": [],
   "execution_count": 5
  },
  {
   "cell_type": "code",
   "metadata": {
    "colab": {
     "base_uri": "https://localhost:8080/",
     "height": 430
    },
    "id": "XaDgw8TALooZ",
    "outputId": "98a2b4a1-a3cd-4ed2-af55-2df2a0fd275b",
    "ExecuteTime": {
     "end_time": "2024-08-13T22:31:54.069237Z",
     "start_time": "2024-08-13T22:31:53.883528Z"
    }
   },
   "source": [
    "visualize_hyperplane(X_train, y_train, W_opt, b_opt)"
   ],
   "outputs": [
    {
     "data": {
      "text/plain": [
       "<Figure size 640x480 with 1 Axes>"
      ],
      "image/png": "[encoded data removed]"
     },
     "metadata": {},
     "output_type": "display_data"
    }
   ],
   "execution_count": 6
  },
  {
   "cell_type": "code",
   "source": [
    "from IPython.display import clear_output\n",
    "from pylab import rcParams\n",
    "rcParams['figure.figsize'] = 10, 5\n",
    "\n",
    "# Visualize the hpyterplane and the training loss\n",
    "W = np.random.randn(2,2)\n",
    "b = np.random.randn(2)\n",
    "\n",
    "def visualize_hyperplane_loss(X, y, W, b, losses):\n",
    "    clear_output(wait=True)\n",
    "    plt.figure(figsize=(10,5))\n",
    "    plt.subplot(1,2,1)\n",
    "    #plt.scatter(X[:,0], X[:,1], c=y.ravel(), cmap='bwr', s= 10)\n",
    "    X_pos = X[y==1, :]\n",
    "    X_neg = X[y==0, :]\n",
    "    plt.scatter(X_pos[:,0], X_pos[:,1], label='1',  c='green', marker='+')\n",
    "    plt.scatter(X_neg[:,0], X_neg[:,1], label='0', c='blue', marker='_')\n",
    "    plt.xlabel('$x_1$', fontsize=10)\n",
    "    plt.ylabel('$x_2$', fontsize=10)\n",
    "    plt.xlim([-2,2])\n",
    "    plt.ylim([-2,2])\n",
    "    plt.title('Decision boundary', fontsize = 15)\n",
    "    plt.legend(loc='upper right')\n",
    "\n",
    "    # Corrected function to calculate the decision boundary\n",
    "    f = lambda x: ((W[0,1]-W[0,0])*x + (b[1]- b[0]))/(W[1,0]-W[1,1])\n",
    "\n",
    "    #Plot the decision boundary\n",
    "    X1 = np.linspace(-2,2,500)\n",
    "    plt.plot(X1, f(X1),  'r--')\n",
    "    plt.subplot(1,2,2)\n",
    "    plt.plot(losses, label = 'Epoch loss', marker='o')\n",
    "    plt.xlabel('Epoch', fontsize=10)\n",
    "    plt.ylabel('Loss', fontsize=10)\n",
    "    plt.legend()\n",
    "    plt.show()"
   ],
   "metadata": {
    "id": "9JYXZzNeWdoM",
    "ExecuteTime": {
     "end_time": "2024-08-13T22:31:54.098984Z",
     "start_time": "2024-08-13T22:31:54.089409Z"
    }
   },
   "outputs": [],
   "execution_count": 7
  },
  {
   "cell_type": "markdown",
   "metadata": {
    "id": "Ro3t8EhgLooZ"
   },
   "source": [
    "#### **<span style=\"color:#0b486b\"> Now we define the logistic regression model </span>**"
   ]
  },
  {
   "cell_type": "code",
   "metadata": {
    "id": "AftaJA0aLooZ",
    "ExecuteTime": {
     "end_time": "2024-08-13T22:31:54.120559Z",
     "start_time": "2024-08-13T22:31:54.117716Z"
    }
   },
   "source": [
    "# Define the softmax function\n",
    "def softmax(h):\n",
    "    return np.exp(h)/np.sum(np.exp(h), axis=1, keepdims= True)"
   ],
   "outputs": [],
   "execution_count": 8
  },
  {
   "cell_type": "markdown",
   "metadata": {
    "id": "_rFNSUPfLooZ"
   },
   "source": [
    "Below is the code for forward propagation w.r.t. the mini-batch $X$ or the set of data points $X$."
   ]
  },
  {
   "cell_type": "code",
   "metadata": {
    "id": "0j1xOA5KLooa",
    "ExecuteTime": {
     "end_time": "2024-08-13T22:31:54.143010Z",
     "start_time": "2024-08-13T22:31:54.139251Z"
    }
   },
   "source": [
    "# Define the logistic regression model and the corresponding loss, which is similar to foward pass in deep neural networks\n",
    "def forward(X= None, y=None, W= None, b= None, eps= 1E-10):\n",
    "    eps = 1E-10\n",
    "    h = X@W + b\n",
    "    p = softmax(h)\n",
    "    y = y.reshape(-1,1)\n",
    "    y_one_hot = np.hstack([1-y, y])\n",
    "    losses = -np.sum(y_one_hot*np.log(p+eps), axis=1)\n",
    "    loss = np.mean(losses)\n",
    "    return (h,p,loss)"
   ],
   "outputs": [],
   "execution_count": 9
  },
  {
   "cell_type": "markdown",
   "metadata": {
    "id": "3hzGSxp-Looa"
   },
   "source": [
    "Below is the code for backward propagation in which we compute the gradient of the loss of $X$ w.r.t. $W$."
   ]
  },
  {
   "cell_type": "code",
   "metadata": {
    "id": "S1H0VnD2Looa",
    "ExecuteTime": {
     "end_time": "2024-08-13T22:31:54.165065Z",
     "start_time": "2024-08-13T22:31:54.161504Z"
    }
   },
   "source": [
    "# Compute the gradient of the loss by the chain rule, which is similar to backpropagate in deep neural networks\n",
    "def grad(X= None, y= None, h= None, p=None, eps= 1E-10):\n",
    "    batch_size = len(y)\n",
    "    y = y.reshape(-1,1)\n",
    "    y_one_hot = np.hstack([1-y, y])\n",
    "    grad_h = p - y_one_hot\n",
    "    grad_W = X.transpose().dot(grad_h)*(1.0/batch_size)  #refer to the formula to compute the gradient in Section I\n",
    "    grad_b = np.sum(grad_h, axis=0)*(1.0/batch_size)\n",
    "    return grad_W, grad_b"
   ],
   "outputs": [],
   "execution_count": 10
  },
  {
   "cell_type": "markdown",
   "metadata": {
    "id": "17fZdWQNLooa"
   },
   "source": [
    "#### **<span style=\"color:#0b486b\"> Here we train our logistic regression model on the synthetic dataset with gradient descent</span>**"
   ]
  },
  {
   "cell_type": "markdown",
   "metadata": {
    "id": "tCL58ZSwLooa"
   },
   "source": [
    "We consider three schemes:\n",
    "- (i) Gradient descent in which we use the entire dataset (i.e., $X$ is the entire dataset) to compute the gradient.\n",
    "- (ii) SGD in which we use mini-batches to compute gradient for which the mini-batches are uniformly sampled from the training set at each iteration.\n",
    "- (iii) SGD in which we use mini-batches to compute gradient, but we first shuffle the training set, split the training set into many equal mini-batches (folds) with the same number of data points (i.e., $batch\\_size$), and in each iteration we use a mini-batch to feed to the network. Although this mini-batch generating strategy is a bit diverge from the theory of SGD, it always obtains comparable performance compared to (ii), hence widely being used in training deep learning models."
   ]
  },
  {
   "cell_type": "markdown",
   "metadata": {
    "id": "SK1akIbeLooa"
   },
   "source": [
    "Below is the code for GD in (i)."
   ]
  },
  {
   "cell_type": "code",
   "metadata": {
    "colab": {
     "base_uri": "https://localhost:8080/",
     "height": 507
    },
    "id": "s-aqBxg1Looa",
    "outputId": "ea059652-9012-43a3-90b1-34fc47d3d578"
   },
   "source": [
    "W = np.random.randn(2,2)\n",
    "b = np.random.randn(2)\n",
    "epochs = 30\n",
    "eta = 0.5\n",
    "plt.ion()\n",
    "losses = []\n",
    "for epoch in range(epochs):\n",
    "    X = X_train\n",
    "    y= y_train.reshape(-1,1)\n",
    "    h, p, loss= forward(X,y, W, b)\n",
    "    losses.append(loss)\n",
    "    # Compute gradient\n",
    "    grad_W, grad_b = grad(X,y,h,p)\n",
    "    # Update coefficients with gradient descent\n",
    "    W = W - eta*grad_W\n",
    "    b = b - eta*grad_b\n",
    "\n",
    "    # We update the coefficients through all the data points\n",
    "    visualize_hyperplane_loss(X_train, y_train, W, b, losses)\n",
    "    plt.pause(0.2)\n",
    "plt.ioff()"
   ],
   "execution_count": 11,
   "outputs": [
    {
     "data": {
      "text/plain": [
       "<contextlib.ExitStack at 0x1131d7a90>"
      ]
     },
     "execution_count": 11,
     "metadata": {},
     "output_type": "execute_result"
    }
   ]
  },
  {
   "cell_type": "markdown",
   "metadata": {
    "id": "SV0_GjKgLooa"
   },
   "source": [
    "Below is the code for SGD with the strategy in (ii)."
   ]
  },
  {
   "cell_type": "code",
   "metadata": {
    "colab": {
     "base_uri": "https://localhost:8080/",
     "height": 507
    },
    "id": "EzPLfFPNLooa",
    "outputId": "ed03ad43-d614-4065-d976-d268f849a2f5"
   },
   "source": [
    "plt.ion()\n",
    "W = np.random.randn(2,2)\n",
    "b = np.random.randn(2)\n",
    "epochs =30\n",
    "eta = 0.5\n",
    "batch_size = 16\n",
    "iter_per_epoch = int(N/batch_size)\n",
    "epoch_losses= []\n",
    "for epoch in range(epochs):\n",
    "    losses =[]\n",
    "    # We update the coefficients in each random batch\n",
    "    for i in range(iter_per_epoch):\n",
    "        # randomly sample a batch of data points\n",
    "        idxs= np.random.choice(np.arange(N), batch_size, replace= False)\n",
    "        X= X_train[idxs]\n",
    "        y = y_train[idxs]\n",
    "        h, p, batch_loss= forward(X,y,W,b)\n",
    "\n",
    "        losses.append(batch_loss)\n",
    "        grad_W, grad_b = grad(X,y,h,p)\n",
    "        W = W - eta*grad_W\n",
    "        b = b - eta*grad_b\n",
    "    epoch_losses.append(np.mean(losses))\n",
    "    visualize_hyperplane_loss(X_train, y_train, W, b, epoch_losses)\n",
    "    plt.pause(0.2)\n",
    "plt.ioff()"
   ],
   "execution_count": 21,
   "outputs": [
    {
     "data": {
      "text/plain": [
       "<contextlib.ExitStack at 0x1135706d0>"
      ]
     },
     "execution_count": 21,
     "metadata": {},
     "output_type": "execute_result"
    }
   ]
  },
  {
   "cell_type": "markdown",
   "metadata": {
    "id": "1BOr_5y2Looa"
   },
   "source": [
    "Below is the code for SGD with the strategy in (iii)."
   ]
  },
  {
   "cell_type": "code",
   "metadata": {
    "colab": {
     "base_uri": "https://localhost:8080/",
     "height": 507
    },
    "id": "ps--N9b3Looa",
    "outputId": "87ab9475-e671-4e35-97a7-0237045bc5b4"
   },
   "source": [
    "plt.ion()\n",
    "W = np.random.randn(2,2)\n",
    "b = np.random.randn(2)\n",
    "epochs =30\n",
    "eta = 0.1\n",
    "batch_size = 16\n",
    "iter_per_epoch = int(N/batch_size)\n",
    "epoch_losses =[]\n",
    "for epoch in range(epochs):\n",
    "    losses = []\n",
    "    idx_shuffled = np.random.permutation(N)\n",
    "    # We update the coefficients in each sequential batch\n",
    "    for idx_start in range(0, N, batch_size):\n",
    "        # We go through the batches sequencially, i.e., non-randomly\n",
    "        idx_end = min(N, idx_start + batch_size)\n",
    "        idxs = idx_shuffled[idx_start:idx_end]\n",
    "        X= X_train[idxs]\n",
    "        y= y_train[idxs]\n",
    "        h, p, batch_loss= forward(X, y, W, b)\n",
    "\n",
    "        losses.append(batch_loss)\n",
    "        grad_W, grad_b = grad(X, y, h, p)\n",
    "        W = W - eta*grad_W\n",
    "        b = b - eta*grad_b\n",
    "    epoch_losses.append(np.mean(losses))\n",
    "    visualize_hyperplane_loss(X_train, y_train, W, b, epoch_losses)\n",
    "    plt.pause(0.2)\n",
    "plt.ioff()"
   ],
   "execution_count": 13,
   "outputs": [
    {
     "data": {
      "text/plain": [
       "<contextlib.ExitStack at 0x112fa7a90>"
      ]
     },
     "execution_count": 13,
     "metadata": {},
     "output_type": "execute_result"
    }
   ]
  },
  {
   "cell_type": "markdown",
   "metadata": {
    "id": "Nnhs7ZHbLooj"
   },
   "source": [
    "**<span style=\"color:red\">Exercise 1</span>**: Try with smaller learning rates and different initial $W$ to compare the models obtained by three strategies in (i), (ii), and (iii). Report your observations."
   ]
  },
  {
   "cell_type": "markdown",
   "metadata": {
    "id": "oJtIpsiTLooj"
   },
   "source": [
    "**<span style=\"color:red\">Exercise 2</span>**: Implement SGD with momentum (refer [here](https://ruder.io/optimizing-gradient-descent/)) and compare with the standard SGD in terms of the convergence rate to the optimal solution."
   ]
  },
  {
   "cell_type": "markdown",
   "metadata": {
    "id": "-_7OX4CDLook"
   },
   "source": [
    "## <span style=\"color:#0b486b\"> II. Auto-Grad in PyTorch</span> <span style=\"color:red;  font-size: 18px\">**** (important)</span>"
   ]
  },
  {
   "cell_type": "markdown",
   "source": [
    "### <span style=\"color:#0b486b\"> II.1 Introduction of AutoGrad in PyTorch </span>"
   ],
   "metadata": {
    "id": "oUqrEJcGPMIj"
   }
  },
  {
   "cell_type": "markdown",
   "source": [
    "Auto-Grad or Auto-Differentiation is a very essential capability  of PyTorch, enabling the back-propagation to compute the gradients of the loss w.r.t. the model parameters (e.g., the filters of Conv2D layers, the weight matrices, and the biases)."
   ],
   "metadata": {
    "id": "mbV8-oULbQeM"
   }
  },
  {
   "cell_type": "markdown",
   "source": [
    "In PyTorch, when declaring a deep model model, we indeed build up a computational graph from the input (e.g., a single data example or a mini-batch of several data examples) to a scalar output (e.g., the loss function)."
   ],
   "metadata": {
    "id": "7Bi3fl1xdXXH"
   }
  },
  {
   "cell_type": "markdown",
   "source": [
    "For example, we consider a linear regression model to predict the score for a feature vector $x = [x_1, x_2, x_3] \\in \\mathbb{R}^3$. Basically, our model parameters consist of a weight vector $W \\in \\mathbb{R}^{3 \\times 1}$ and a bias $b \\in \\mathbb{R}$. We evaluate the predicted score as: $\\hat{y} = xW +b$. Assuming that the ground-truth score is $y \\in \\mathbb{R}$, if we are using the least square error, this prediction suffers a loss:\n",
    "\n",
    "$l = (\\hat{y} - y)^2 = (xW +b -y)^2$\n",
    "\n",
    "We now use the auto-grad to compute the gradient of the L2 loss $l$ w.r.t. the weight vector $W$ and the bias $b$."
   ],
   "metadata": {
    "id": "oJA1tquUd7Mn"
   }
  },
  {
   "cell_type": "code",
   "source": [
    "import torch"
   ],
   "metadata": {
    "id": "9-V2XO3QHtgw",
    "ExecuteTime": {
     "end_time": "2024-08-13T22:32:35.383794Z",
     "start_time": "2024-08-13T22:32:35.381445Z"
    }
   },
   "outputs": [],
   "execution_count": 14
  },
  {
   "cell_type": "markdown",
   "source": [
    "We declare $x$ as a Torch tensor and randomly initialize $W$ and $b$. Please note `requires_grad = True` indicates that we need to compute the gradient of the loss w.r.t. this variable.\n",
    "\n",
    "For the tensor $W$ and $b$, because their `requires_grad = True`, we store their gradients along with their values. Moreover, we can access the gradient and the value via `W.grad` and `W.data`."
   ],
   "metadata": {
    "id": "G5sMca0yKceq"
   }
  },
  {
   "cell_type": "code",
   "source": [
    "x = torch.tensor([1.0, 2.0, 3.0], requires_grad=False)\n",
    "y = torch.tensor([4.0])\n",
    "W = torch.rand(3,1, requires_grad=True)\n",
    "b = torch.rand(1, requires_grad=True)"
   ],
   "metadata": {
    "id": "6fxC6a7eIDLW",
    "ExecuteTime": {
     "end_time": "2024-08-13T22:32:35.410992Z",
     "start_time": "2024-08-13T22:32:35.404174Z"
    }
   },
   "outputs": [],
   "execution_count": 15
  },
  {
   "cell_type": "markdown",
   "source": [
    "We now compute the predicted score $\\hat{y}$ and the L2 loss `l`. Actually, we are defining a computational graph with $x, W, b, \\hat{y}, y$ and the loss $l$."
   ],
   "metadata": {
    "id": "JWVYyGNgLXzW"
   }
  },
  {
   "cell_type": "code",
   "source": [
    "y_hat = torch.matmul(x,W) + b\n",
    "l = (y_hat - y)**2"
   ],
   "metadata": {
    "id": "U0IrQBu7IV_4",
    "ExecuteTime": {
     "end_time": "2024-08-13T22:32:35.442630Z",
     "start_time": "2024-08-13T22:32:35.433837Z"
    }
   },
   "outputs": [],
   "execution_count": 16
  },
  {
   "cell_type": "markdown",
   "source": [
    "We call `l.backward()` to traverse backward the above computational graph to compute the gradients of the loss w.r.t. $W$ and $b$."
   ],
   "metadata": {
    "id": "DIpLeNX6LiFV"
   }
  },
  {
   "cell_type": "code",
   "source": [
    "l.backward(retain_graph=True)\n",
    "#l.backward() raises RuntimeError if we try to through the graph a \"second time\"\n",
    "#suggests that you might be attempting to call the .backward() function\n",
    "#on a tensor that has already had its gradients calculated and the underlying computation graph has been freed.\n",
    "print(f'W_grad = {W.grad}')\n",
    "print(f'W_value={W.data}')\n",
    "print(f'b_grad = {b.grad}')\n",
    "print(f'b_value={b.data}')"
   ],
   "metadata": {
    "id": "leZjdk62IcGM",
    "outputId": "10e20a25-a6f7-42bc-831a-cd66b3f5ed77",
    "colab": {
     "base_uri": "https://localhost:8080/"
    },
    "ExecuteTime": {
     "end_time": "2024-08-13T22:32:35.526463Z",
     "start_time": "2024-08-13T22:32:35.464658Z"
    }
   },
   "outputs": [
    {
     "name": "stdout",
     "output_type": "stream",
     "text": [
      "W_grad = tensor([[-0.4486],\n",
      "        [-0.8971],\n",
      "        [-1.3457]])\n",
      "W_value=tensor([[0.0218],\n",
      "        [0.8201],\n",
      "        [0.4717]])\n",
      "b_grad = tensor([-0.4486])\n",
      "b_value=tensor([0.6985])\n"
     ]
    }
   ],
   "execution_count": 17
  },
  {
   "cell_type": "markdown",
   "source": [
    "We print out the `requires_grad` of all relevant variables or tensors. Except the input $x$, other have `requires_grad=True`, indicating that we can traverse backward to compute the gradients of the loss w.r.t. them."
   ],
   "metadata": {
    "id": "cogtOXVrMXcC"
   }
  },
  {
   "cell_type": "code",
   "source": [
    "print(l.requires_grad)\n",
    "print(y_hat.requires_grad)\n",
    "print(W.requires_grad)\n",
    "print(b.requires_grad)\n",
    "print(x.requires_grad)"
   ],
   "metadata": {
    "id": "6CQrINarMLVp",
    "outputId": "9cdde43a-be70-48c6-fdf2-a045ea1c0277",
    "colab": {
     "base_uri": "https://localhost:8080/"
    },
    "ExecuteTime": {
     "end_time": "2024-08-13T22:32:35.551141Z",
     "start_time": "2024-08-13T22:32:35.548334Z"
    }
   },
   "outputs": [
    {
     "name": "stdout",
     "output_type": "stream",
     "text": [
      "True\n",
      "True\n",
      "True\n",
      "True\n",
      "False\n"
     ]
    }
   ],
   "execution_count": 18
  },
  {
   "cell_type": "markdown",
   "source": [
    "In some contexts (e.g., only computing the loss for displaying or evaluating the accuracies), we do not need to compute the gradients. To save up the time and memory, we can"
   ],
   "metadata": {
    "id": "b7jXzrMtM7eT"
   }
  },
  {
   "cell_type": "code",
   "source": [
    "with torch.no_grad():\n",
    "  l_prime = (y_hat - y)**2\n",
    "  print(l_prime.requires_grad)"
   ],
   "metadata": {
    "id": "vAseJV60NNnm",
    "outputId": "5b3c173d-7ec3-4e40-f26d-787a7087483a",
    "colab": {
     "base_uri": "https://localhost:8080/"
    },
    "ExecuteTime": {
     "end_time": "2024-08-13T22:32:35.576221Z",
     "start_time": "2024-08-13T22:32:35.573010Z"
    }
   },
   "outputs": [
    {
     "name": "stdout",
     "output_type": "stream",
     "text": [
      "False\n"
     ]
    }
   ],
   "execution_count": 19
  },
  {
   "cell_type": "markdown",
   "source": [
    "We only use `l_prime` for the evaluating purpose. Hence, we cannot do backpropagation from `l_prime`. The following raises a RuntimeError."
   ],
   "metadata": {
    "id": "mThY8DsNNd-H"
   }
  },
  {
   "cell_type": "code",
   "source": [
    "l_prime.backward()"
   ],
   "metadata": {
    "id": "H2EnLvY7Nyzy",
    "outputId": "596e90b1-40dd-431a-91bd-ea27b0a2c1fb",
    "colab": {
     "base_uri": "https://localhost:8080/",
     "height": 287
    },
    "ExecuteTime": {
     "end_time": "2024-08-13T22:32:36.242496Z",
     "start_time": "2024-08-13T22:32:35.604401Z"
    }
   },
   "outputs": [
    {
     "ename": "RuntimeError",
     "evalue": "element 0 of tensors does not require grad and does not have a grad_fn",
     "output_type": "error",
     "traceback": [
      "\u001B[0;31m---------------------------------------------------------------------------\u001B[0m",
      "\u001B[0;31mRuntimeError\u001B[0m                              Traceback (most recent call last)",
      "Cell \u001B[0;32mIn[20], line 1\u001B[0m\n\u001B[0;32m----> 1\u001B[0m l_prime\u001B[38;5;241m.\u001B[39mbackward()\n",
      "File \u001B[0;32m/opt/anaconda3/lib/python3.11/site-packages/torch/_tensor.py:522\u001B[0m, in \u001B[0;36mTensor.backward\u001B[0;34m(self, gradient, retain_graph, create_graph, inputs)\u001B[0m\n\u001B[1;32m    512\u001B[0m \u001B[38;5;28;01mif\u001B[39;00m has_torch_function_unary(\u001B[38;5;28mself\u001B[39m):\n\u001B[1;32m    513\u001B[0m     \u001B[38;5;28;01mreturn\u001B[39;00m handle_torch_function(\n\u001B[1;32m    514\u001B[0m         Tensor\u001B[38;5;241m.\u001B[39mbackward,\n\u001B[1;32m    515\u001B[0m         (\u001B[38;5;28mself\u001B[39m,),\n\u001B[0;32m   (...)\u001B[0m\n\u001B[1;32m    520\u001B[0m         inputs\u001B[38;5;241m=\u001B[39minputs,\n\u001B[1;32m    521\u001B[0m     )\n\u001B[0;32m--> 522\u001B[0m torch\u001B[38;5;241m.\u001B[39mautograd\u001B[38;5;241m.\u001B[39mbackward(\n\u001B[1;32m    523\u001B[0m     \u001B[38;5;28mself\u001B[39m, gradient, retain_graph, create_graph, inputs\u001B[38;5;241m=\u001B[39minputs\n\u001B[1;32m    524\u001B[0m )\n",
      "File \u001B[0;32m/opt/anaconda3/lib/python3.11/site-packages/torch/autograd/__init__.py:266\u001B[0m, in \u001B[0;36mbackward\u001B[0;34m(tensors, grad_tensors, retain_graph, create_graph, grad_variables, inputs)\u001B[0m\n\u001B[1;32m    261\u001B[0m     retain_graph \u001B[38;5;241m=\u001B[39m create_graph\n\u001B[1;32m    263\u001B[0m \u001B[38;5;66;03m# The reason we repeat the same comment below is that\u001B[39;00m\n\u001B[1;32m    264\u001B[0m \u001B[38;5;66;03m# some Python versions print out the first line of a multi-line function\u001B[39;00m\n\u001B[1;32m    265\u001B[0m \u001B[38;5;66;03m# calls in the traceback and some print out the last line\u001B[39;00m\n\u001B[0;32m--> 266\u001B[0m Variable\u001B[38;5;241m.\u001B[39m_execution_engine\u001B[38;5;241m.\u001B[39mrun_backward(  \u001B[38;5;66;03m# Calls into the C++ engine to run the backward pass\u001B[39;00m\n\u001B[1;32m    267\u001B[0m     tensors,\n\u001B[1;32m    268\u001B[0m     grad_tensors_,\n\u001B[1;32m    269\u001B[0m     retain_graph,\n\u001B[1;32m    270\u001B[0m     create_graph,\n\u001B[1;32m    271\u001B[0m     inputs,\n\u001B[1;32m    272\u001B[0m     allow_unreachable\u001B[38;5;241m=\u001B[39m\u001B[38;5;28;01mTrue\u001B[39;00m,\n\u001B[1;32m    273\u001B[0m     accumulate_grad\u001B[38;5;241m=\u001B[39m\u001B[38;5;28;01mTrue\u001B[39;00m,\n\u001B[1;32m    274\u001B[0m )\n",
      "\u001B[0;31mRuntimeError\u001B[0m: element 0 of tensors does not require grad and does not have a grad_fn"
     ]
    }
   ],
   "execution_count": 20
  },
  {
   "cell_type": "markdown",
   "source": [
    "### <span style=\"color:#0b486b\"> II.1 Implementing logistic regression using AutoGrad </span>"
   ],
   "metadata": {
    "id": "6H-vJRGYPuk9"
   }
  },
  {
   "cell_type": "markdown",
   "source": [
    "First, we create a Torch dataset with `X_train` and `y_train`."
   ],
   "metadata": {
    "id": "ns_kXVPIRmr2"
   }
  },
  {
   "cell_type": "code",
   "source": [
    "from torch.utils.data import Dataset, DataLoader\n",
    "import torch\n",
    "\n",
    "torch.manual_seed(1234)"
   ],
   "metadata": {
    "id": "j3hIxiFMP2kY",
    "outputId": "3ee740ce-cd08-4f4c-c00e-46be6928d938",
    "colab": {
     "base_uri": "https://localhost:8080/"
    }
   },
   "execution_count": null,
   "outputs": [
    {
     "output_type": "execute_result",
     "data": {
      "text/plain": [
       "<torch._C.Generator at 0x7a685c144150>"
      ]
     },
     "metadata": {},
     "execution_count": 1
    }
   ]
  },
  {
   "cell_type": "code",
   "source": [
    "class MyDataset(Dataset):\n",
    "    def __init__(self, data, labels):\n",
    "        super(MyDataset, self).__init__()\n",
    "        assert data.shape[0] == labels.shape[0]  #assuming shape[0] = dataset size\n",
    "        self.data = torch.tensor(data, dtype = torch.float32)\n",
    "        self.labels = torch.tensor(labels, dtype = torch.float32)\n",
    "\n",
    "    def __len__(self):\n",
    "        return self.labels.shape[0]\n",
    "\n",
    "    def __getitem__(self, idx):\n",
    "        return self.data[idx], self.labels[idx]"
   ],
   "metadata": {
    "id": "_-_hmr7SV3ay"
   },
   "execution_count": null,
   "outputs": []
  },
  {
   "cell_type": "code",
   "source": [
    "train_dataset = MyDataset(X_train, y_train)\n",
    "train_loader = DataLoader(train_dataset, batch_size=32, shuffle=True)"
   ],
   "metadata": {
    "id": "BWEnBcT-aHv-"
   },
   "execution_count": null,
   "outputs": []
  },
  {
   "cell_type": "code",
   "source": [
    "class LogisticRegression(torch.nn.Module):\n",
    "    def __init__(self):\n",
    "        super(LogisticRegression, self).__init__()\n",
    "        self.W = torch.nn.Parameter(torch.randn(2, 2, requires_grad= True))\n",
    "        self.b = torch.nn.Parameter(torch.randn(2, requires_grad= True))\n",
    "\n",
    "    def forward(self, x):\n",
    "        return torch.matmul(x, self.W) + self.b\n",
    "\n",
    "    def compute_loss(self, x, y):\n",
    "        eps = 1E-10\n",
    "        h = self.forward(x)\n",
    "        # compute cross-entropy loss manually\n",
    "        # p = torch.nn.functional.softmax(h, dim=1)\n",
    "        # losses = -torch.log(p[range(len(y)),y.long()]+eps)\n",
    "        # loss = torch.mean(losses)\n",
    "        loss_fn = torch.nn.CrossEntropyLoss()\n",
    "        loss = loss_fn(h, y.long().squeeze())\n",
    "        return loss\n",
    "\n",
    "    def update_SGD(self, x, y, eta):\n",
    "        loss = self.compute_loss(x, y)\n",
    "        loss.backward()\n",
    "        self.W.data = self.W.data - eta*self.W.grad\n",
    "        self.b.data = self.b.data - eta*self.b.grad\n",
    "        if self.W.grad is not None:\n",
    "          self.W.grad.zero_()\n",
    "        if self.b.grad is not None:\n",
    "          self.b.grad.zero_()\n",
    "\n",
    "    def fit(self, train_loader, epochs, eta):\n",
    "        plt.ion()\n",
    "        losses = []\n",
    "        for epoch in range(epochs):\n",
    "          for x, y in train_loader:\n",
    "              self.update_SGD(x, y, eta)\n",
    "          train_loss = self.compute_loss(train_dataset.data, train_dataset.labels).detach().numpy()\n",
    "          losses.append(train_loss)\n",
    "          visualize_hyperplane_loss(X_train, y_train, self.W.data, self.b.data, losses)\n",
    "          plt.pause(0.5)\n",
    "        plt.ioff()\n"
   ],
   "metadata": {
    "id": "WxQYXzuIaQOc"
   },
   "execution_count": null,
   "outputs": []
  },
  {
   "cell_type": "code",
   "source": [
    "lg = LogisticRegression()\n",
    "lg.fit(train_loader, epochs=30, eta=0.1)"
   ],
   "metadata": {
    "id": "LsPG0hrRboNm",
    "outputId": "6a0c5ee5-71b0-4c89-f37e-7a7a5b3116e5",
    "colab": {
     "base_uri": "https://localhost:8080/",
     "height": 490
    }
   },
   "execution_count": null,
   "outputs": [
    {
     "output_type": "display_data",
     "data": {
      "text/plain": [
       "<Figure size 1000x500 with 2 Axes>"
      ],
      "image/png": "[encoded data removed]"
     },
     "metadata": {}
    }
   ]
  },
  {
   "cell_type": "markdown",
   "metadata": {
    "id": "Q0LXkkAsLool"
   },
   "source": [
    "---\n",
    "### <span style=\"color:#0b486b\"> <div  style=\"text-align:center\">**THE END**</div> </span>"
   ]
  }
 ],
 "metadata": {
  "kernelspec": {
   "display_name": "Python 3 (ipykernel)",
   "name": "python3",
   "language": "python"
  },
  "language_info": {
   "codemirror_mode": {
    "name": "ipython",
    "version": 3
   },
   "file_extension": ".py",
   "mimetype": "text/x-python",
   "name": "python",
   "nbconvert_exporter": "python",
   "pygments_lexer": "ipython3",
   "version": "3.7.10"
  },
  "colab": {
   "provenance": [],
   "gpuType": "T4",
   "include_colab_link": true
  },
  "accelerator": "GPU"
 },
 "nbformat": 4,
 "nbformat_minor": 0
}
